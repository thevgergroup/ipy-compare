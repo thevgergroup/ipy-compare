{
 "cells": [
  {
   "cell_type": "code",
   "execution_count": 1,
   "id": "3da55eea-c6df-4873-8a7a-3171faabf054",
   "metadata": {},
   "outputs": [],
   "source": [
    "%load_ext autoreload\n",
    "%autoreload 2"
   ]
  },
  {
   "cell_type": "markdown",
   "id": "c658e9a2-4641-4703-98e0-45782bfe3e6a",
   "metadata": {},
   "source": [
    "### Example for using ipy_compare\n",
    "Create a dataframe and measures\n",
    "\n",
    "This version uses an \"overall\" measure which is useful for seeing input and output and determining if the right output was generated"
   ]
  },
  {
   "cell_type": "code",
   "execution_count": 2,
   "id": "a877fd4c-c9d5-4d04-8f9b-cad564860427",
   "metadata": {},
   "outputs": [],
   "source": [
    "from ipy_compare import Compare\n",
    "import pandas as pd"
   ]
  },
  {
   "cell_type": "code",
   "execution_count": 8,
   "id": "47ebc031-e52f-44fc-ad60-484eae75af1c",
   "metadata": {},
   "outputs": [
    {
     "data": {
      "application/vnd.jupyter.widget-view+json": {
       "model_id": "4b66194907a346e88ec7a56e58359e2b",
       "version_major": 2,
       "version_minor": 0
      },
      "text/plain": [
       "Output()"
      ]
     },
     "metadata": {},
     "output_type": "display_data"
    }
   ],
   "source": [
    "# Sample DataFrame\n",
    "data = {'Column1': ['A', 'B', 'C'], 'Column2': ['X', 'Y', 'Z'], 'Column3': [\"Apple\", \"Fish swimming\", \"Vrooom car\"]}\n",
    "df = pd.DataFrame(data)\n",
    "\n",
    "# Measures setup\n",
    "measures = {\n",
    "    \"overall\": [\"Good\", \"Bad\"],\n",
    "}\n",
    "\n",
    "# Initialize Compare\n",
    "compare = Compare(df, columns=[\"Column1\", \"Column3\"], measures=measures)"
   ]
  },
  {
   "cell_type": "markdown",
   "id": "b7cf523f-76f2-493d-a0ce-64f061e60d28",
   "metadata": {},
   "source": [
    "### Extract the measurements "
   ]
  },
  {
   "cell_type": "code",
   "execution_count": 4,
   "id": "26590c62-7a97-4535-8c44-50335ee146f8",
   "metadata": {},
   "outputs": [
    {
     "data": {
      "text/html": [
       "<div>\n",
       "<style scoped>\n",
       "    .dataframe tbody tr th:only-of-type {\n",
       "        vertical-align: middle;\n",
       "    }\n",
       "\n",
       "    .dataframe tbody tr th {\n",
       "        vertical-align: top;\n",
       "    }\n",
       "\n",
       "    .dataframe thead th {\n",
       "        text-align: right;\n",
       "    }\n",
       "</style>\n",
       "<table border=\"1\" class=\"dataframe\">\n",
       "  <thead>\n",
       "    <tr style=\"text-align: right;\">\n",
       "      <th></th>\n",
       "    </tr>\n",
       "  </thead>\n",
       "  <tbody>\n",
       "  </tbody>\n",
       "</table>\n",
       "</div>"
      ],
      "text/plain": [
       "Empty DataFrame\n",
       "Columns: []\n",
       "Index: []"
      ]
     },
     "execution_count": 4,
     "metadata": {},
     "output_type": "execute_result"
    }
   ],
   "source": [
    "compare.get_measurements()"
   ]
  },
  {
   "cell_type": "markdown",
   "id": "9c871f6f-967a-4b0c-a459-7d30eaf1d6ff",
   "metadata": {},
   "source": [
    "### Which is Better?\n",
    "\n",
    "Changing the measures from overall to each produces a set of buttons for all items"
   ]
  },
  {
   "cell_type": "code",
   "execution_count": 9,
   "id": "b4feaf14-7605-4fa8-a583-3fad0c6d8e39",
   "metadata": {},
   "outputs": [
    {
     "data": {
      "application/vnd.jupyter.widget-view+json": {
       "model_id": "5fd087c7bcb24cca9a8ec0cbea4e7437",
       "version_major": 2,
       "version_minor": 0
      },
      "text/plain": [
       "Output()"
      ]
     },
     "metadata": {},
     "output_type": "display_data"
    }
   ],
   "source": [
    "measures2 = {\n",
    "    \"each\": [\"Good\", \"Bad\", \"Neutral\"],\n",
    "}\n",
    "compare2 = Compare(df, columns=[\"Column1\", \"Column3\"], measures=measures2)"
   ]
  },
  {
   "cell_type": "code",
   "execution_count": 7,
   "id": "26a0abfe-db63-4496-9eee-075e1323ef84",
   "metadata": {},
   "outputs": [
    {
     "data": {
      "text/html": [
       "<div>\n",
       "<style scoped>\n",
       "    .dataframe tbody tr th:only-of-type {\n",
       "        vertical-align: middle;\n",
       "    }\n",
       "\n",
       "    .dataframe tbody tr th {\n",
       "        vertical-align: top;\n",
       "    }\n",
       "\n",
       "    .dataframe thead th {\n",
       "        text-align: right;\n",
       "    }\n",
       "</style>\n",
       "<table border=\"1\" class=\"dataframe\">\n",
       "  <thead>\n",
       "    <tr style=\"text-align: right;\">\n",
       "      <th></th>\n",
       "      <th>row_index</th>\n",
       "      <th>column</th>\n",
       "      <th>value</th>\n",
       "      <th>measure</th>\n",
       "      <th>type</th>\n",
       "    </tr>\n",
       "  </thead>\n",
       "  <tbody>\n",
       "    <tr>\n",
       "      <th>0</th>\n",
       "      <td>0</td>\n",
       "      <td>Column1</td>\n",
       "      <td>A</td>\n",
       "      <td>Good</td>\n",
       "      <td>column</td>\n",
       "    </tr>\n",
       "    <tr>\n",
       "      <th>1</th>\n",
       "      <td>0</td>\n",
       "      <td>Column3</td>\n",
       "      <td>Apple</td>\n",
       "      <td>Bad</td>\n",
       "      <td>column</td>\n",
       "    </tr>\n",
       "    <tr>\n",
       "      <th>2</th>\n",
       "      <td>1</td>\n",
       "      <td>Column1</td>\n",
       "      <td>B</td>\n",
       "      <td>Good</td>\n",
       "      <td>column</td>\n",
       "    </tr>\n",
       "    <tr>\n",
       "      <th>3</th>\n",
       "      <td>1</td>\n",
       "      <td>Column3</td>\n",
       "      <td>Fish swimming</td>\n",
       "      <td>Neutral</td>\n",
       "      <td>column</td>\n",
       "    </tr>\n",
       "    <tr>\n",
       "      <th>4</th>\n",
       "      <td>2</td>\n",
       "      <td>Column1</td>\n",
       "      <td>C</td>\n",
       "      <td>Good</td>\n",
       "      <td>column</td>\n",
       "    </tr>\n",
       "    <tr>\n",
       "      <th>5</th>\n",
       "      <td>2</td>\n",
       "      <td>Column3</td>\n",
       "      <td>Vrooom car</td>\n",
       "      <td>Bad</td>\n",
       "      <td>column</td>\n",
       "    </tr>\n",
       "  </tbody>\n",
       "</table>\n",
       "</div>"
      ],
      "text/plain": [
       "   row_index   column          value  measure    type\n",
       "0          0  Column1              A     Good  column\n",
       "1          0  Column3          Apple      Bad  column\n",
       "2          1  Column1              B     Good  column\n",
       "3          1  Column3  Fish swimming  Neutral  column\n",
       "4          2  Column1              C     Good  column\n",
       "5          2  Column3     Vrooom car      Bad  column"
      ]
     },
     "execution_count": 7,
     "metadata": {},
     "output_type": "execute_result"
    }
   ],
   "source": [
    "compare2.get_measurements()"
   ]
  }
 ],
 "metadata": {
  "kernelspec": {
   "display_name": "Python 3 (ipykernel)",
   "language": "python",
   "name": "python3"
  },
  "language_info": {
   "codemirror_mode": {
    "name": "ipython",
    "version": 3
   },
   "file_extension": ".py",
   "mimetype": "text/x-python",
   "name": "python",
   "nbconvert_exporter": "python",
   "pygments_lexer": "ipython3",
   "version": "3.10.15"
  }
 },
 "nbformat": 4,
 "nbformat_minor": 5
}
