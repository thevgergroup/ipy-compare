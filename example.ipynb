{
 "cells": [
  {
   "cell_type": "code",
   "execution_count": 1,
   "id": "3da55eea-c6df-4873-8a7a-3171faabf054",
   "metadata": {},
   "outputs": [],
   "source": [
    "%load_ext autoreload\n",
    "%autoreload 2"
   ]
  },
  {
   "cell_type": "markdown",
   "id": "c658e9a2-4641-4703-98e0-45782bfe3e6a",
   "metadata": {},
   "source": [
    "### Example for using ipy_compare\n",
    "Create a dataframe and measures\n",
    "\n",
    "This version uses an \"overall\" measure which is useful for seeing input and output and determining if the right output was generated"
   ]
  },
  {
   "cell_type": "code",
   "execution_count": 2,
   "id": "a877fd4c-c9d5-4d04-8f9b-cad564860427",
   "metadata": {},
   "outputs": [
    {
     "ename": "ImportError",
     "evalue": "dlopen(/Users/patrick/Projects/thevgergroup/ipy-compare/.venv/lib/python3.10/site-packages/pandas/_libs/pandas_parser.cpython-310-darwin.so, 0x0002): tried: '/Users/patrick/Projects/thevgergroup/ipy-compare/.venv/lib/python3.10/site-packages/pandas/_libs/pandas_parser.cpython-310-darwin.so' (mach-o file, but is an incompatible architecture (have 'x86_64', need 'arm64e' or 'arm64')), '/System/Volumes/Preboot/Cryptexes/OS/Users/patrick/Projects/thevgergroup/ipy-compare/.venv/lib/python3.10/site-packages/pandas/_libs/pandas_parser.cpython-310-darwin.so' (no such file), '/Users/patrick/Projects/thevgergroup/ipy-compare/.venv/lib/python3.10/site-packages/pandas/_libs/pandas_parser.cpython-310-darwin.so' (mach-o file, but is an incompatible architecture (have 'x86_64', need 'arm64e' or 'arm64'))",
     "output_type": "error",
     "traceback": [
      "\u001b[0;31m---------------------------------------------------------------------------\u001b[0m",
      "\u001b[0;31mImportError\u001b[0m                               Traceback (most recent call last)",
      "\u001b[0;32m/var/folders/g7/spkyc7196fq9lccm7j6_lb3h0000gn/T/ipykernel_26812/1535350373.py\u001b[0m in \u001b[0;36m<cell line: 1>\u001b[0;34m()\u001b[0m\n\u001b[0;32m----> 1\u001b[0;31m \u001b[0;32mfrom\u001b[0m \u001b[0mipy_compare\u001b[0m \u001b[0;32mimport\u001b[0m \u001b[0mCompare\u001b[0m\u001b[0;34m\u001b[0m\u001b[0;34m\u001b[0m\u001b[0m\n\u001b[0m\u001b[1;32m      2\u001b[0m \u001b[0;32mimport\u001b[0m \u001b[0mpandas\u001b[0m \u001b[0;32mas\u001b[0m \u001b[0mpd\u001b[0m\u001b[0;34m\u001b[0m\u001b[0;34m\u001b[0m\u001b[0m\n",
      "\u001b[0;32m~/Projects/thevgergroup/ipy-compare/ipy_compare/__init__.py\u001b[0m in \u001b[0;36m<module>\u001b[0;34m\u001b[0m\n\u001b[0;32m----> 1\u001b[0;31m \u001b[0;32mfrom\u001b[0m \u001b[0;34m.\u001b[0m\u001b[0mpanel\u001b[0m \u001b[0;32mimport\u001b[0m \u001b[0mCompare\u001b[0m\u001b[0;34m\u001b[0m\u001b[0;34m\u001b[0m\u001b[0m\n\u001b[0m\u001b[1;32m      2\u001b[0m \u001b[0;34m\u001b[0m\u001b[0m\n\u001b[1;32m      3\u001b[0m \u001b[0m__all__\u001b[0m \u001b[0;34m=\u001b[0m \u001b[0;34m[\u001b[0m\u001b[0;34m\"Compare\"\u001b[0m\u001b[0;34m]\u001b[0m\u001b[0;34m\u001b[0m\u001b[0;34m\u001b[0m\u001b[0m\n",
      "\u001b[0;32m~/Projects/thevgergroup/ipy-compare/ipy_compare/panel.py\u001b[0m in \u001b[0;36m<module>\u001b[0;34m\u001b[0m\n\u001b[0;32m----> 1\u001b[0;31m \u001b[0;32mimport\u001b[0m \u001b[0mpandas\u001b[0m \u001b[0;32mas\u001b[0m \u001b[0mpd\u001b[0m\u001b[0;34m\u001b[0m\u001b[0;34m\u001b[0m\u001b[0m\n\u001b[0m\u001b[1;32m      2\u001b[0m \u001b[0;32mfrom\u001b[0m \u001b[0;34m.\u001b[0m\u001b[0mbrand\u001b[0m \u001b[0;32mimport\u001b[0m \u001b[0mfooter_html\u001b[0m  \u001b[0;31m# Import footer_html from brand.py\u001b[0m\u001b[0;34m\u001b[0m\u001b[0;34m\u001b[0m\u001b[0m\n\u001b[1;32m      3\u001b[0m \u001b[0;32mimport\u001b[0m \u001b[0mipywidgets\u001b[0m \u001b[0;32mas\u001b[0m \u001b[0mwidgets\u001b[0m\u001b[0;34m\u001b[0m\u001b[0;34m\u001b[0m\u001b[0m\n\u001b[1;32m      4\u001b[0m \u001b[0;32mfrom\u001b[0m \u001b[0mIPython\u001b[0m\u001b[0;34m.\u001b[0m\u001b[0mdisplay\u001b[0m \u001b[0;32mimport\u001b[0m \u001b[0mdisplay\u001b[0m\u001b[0;34m,\u001b[0m \u001b[0mHTML\u001b[0m\u001b[0;34m,\u001b[0m \u001b[0mclear_output\u001b[0m\u001b[0;34m\u001b[0m\u001b[0;34m\u001b[0m\u001b[0m\n\u001b[1;32m      5\u001b[0m \u001b[0;34m\u001b[0m\u001b[0m\n",
      "\u001b[0;32m~/Projects/thevgergroup/ipy-compare/.venv/lib/python3.10/site-packages/pandas/__init__.py\u001b[0m in \u001b[0;36m<module>\u001b[0;34m\u001b[0m\n\u001b[1;32m     47\u001b[0m \u001b[0;32mimport\u001b[0m \u001b[0mpandas\u001b[0m\u001b[0;34m.\u001b[0m\u001b[0mcore\u001b[0m\u001b[0;34m.\u001b[0m\u001b[0mconfig_init\u001b[0m  \u001b[0;31m# pyright: ignore[reportUnusedImport] # noqa: F401\u001b[0m\u001b[0;34m\u001b[0m\u001b[0;34m\u001b[0m\u001b[0m\n\u001b[1;32m     48\u001b[0m \u001b[0;34m\u001b[0m\u001b[0m\n\u001b[0;32m---> 49\u001b[0;31m from pandas.core.api import (\n\u001b[0m\u001b[1;32m     50\u001b[0m     \u001b[0;31m# dtype\u001b[0m\u001b[0;34m\u001b[0m\u001b[0;34m\u001b[0m\u001b[0m\n\u001b[1;32m     51\u001b[0m     \u001b[0mArrowDtype\u001b[0m\u001b[0;34m,\u001b[0m\u001b[0;34m\u001b[0m\u001b[0;34m\u001b[0m\u001b[0m\n",
      "\u001b[0;32m~/Projects/thevgergroup/ipy-compare/.venv/lib/python3.10/site-packages/pandas/core/api.py\u001b[0m in \u001b[0;36m<module>\u001b[0;34m\u001b[0m\n\u001b[0;32m----> 1\u001b[0;31m from pandas._libs import (\n\u001b[0m\u001b[1;32m      2\u001b[0m     \u001b[0mNaT\u001b[0m\u001b[0;34m,\u001b[0m\u001b[0;34m\u001b[0m\u001b[0;34m\u001b[0m\u001b[0m\n\u001b[1;32m      3\u001b[0m     \u001b[0mPeriod\u001b[0m\u001b[0;34m,\u001b[0m\u001b[0;34m\u001b[0m\u001b[0;34m\u001b[0m\u001b[0m\n\u001b[1;32m      4\u001b[0m     \u001b[0mTimedelta\u001b[0m\u001b[0;34m,\u001b[0m\u001b[0;34m\u001b[0m\u001b[0;34m\u001b[0m\u001b[0m\n\u001b[1;32m      5\u001b[0m     \u001b[0mTimestamp\u001b[0m\u001b[0;34m,\u001b[0m\u001b[0;34m\u001b[0m\u001b[0;34m\u001b[0m\u001b[0m\n",
      "\u001b[0;32m~/Projects/thevgergroup/ipy-compare/.venv/lib/python3.10/site-packages/pandas/_libs/__init__.py\u001b[0m in \u001b[0;36m<module>\u001b[0;34m\u001b[0m\n\u001b[1;32m     14\u001b[0m \u001b[0;31m# module gets monkeypatched with the pandas_datetime_CAPI\u001b[0m\u001b[0;34m\u001b[0m\u001b[0;34m\u001b[0m\u001b[0m\n\u001b[1;32m     15\u001b[0m \u001b[0;31m# see pandas_datetime_exec in pd_datetime.c\u001b[0m\u001b[0;34m\u001b[0m\u001b[0;34m\u001b[0m\u001b[0m\n\u001b[0;32m---> 16\u001b[0;31m \u001b[0;32mimport\u001b[0m \u001b[0mpandas\u001b[0m\u001b[0;34m.\u001b[0m\u001b[0m_libs\u001b[0m\u001b[0;34m.\u001b[0m\u001b[0mpandas_parser\u001b[0m  \u001b[0;31m# isort: skip # type: ignore[reportUnusedImport]\u001b[0m\u001b[0;34m\u001b[0m\u001b[0;34m\u001b[0m\u001b[0m\n\u001b[0m\u001b[1;32m     17\u001b[0m \u001b[0;32mimport\u001b[0m \u001b[0mpandas\u001b[0m\u001b[0;34m.\u001b[0m\u001b[0m_libs\u001b[0m\u001b[0;34m.\u001b[0m\u001b[0mpandas_datetime\u001b[0m  \u001b[0;31m# noqa: F401 # isort: skip # type: ignore[reportUnusedImport]\u001b[0m\u001b[0;34m\u001b[0m\u001b[0;34m\u001b[0m\u001b[0m\n\u001b[1;32m     18\u001b[0m \u001b[0;32mfrom\u001b[0m \u001b[0mpandas\u001b[0m\u001b[0;34m.\u001b[0m\u001b[0m_libs\u001b[0m\u001b[0;34m.\u001b[0m\u001b[0minterval\u001b[0m \u001b[0;32mimport\u001b[0m \u001b[0mInterval\u001b[0m\u001b[0;34m\u001b[0m\u001b[0;34m\u001b[0m\u001b[0m\n",
      "\u001b[0;31mImportError\u001b[0m: dlopen(/Users/patrick/Projects/thevgergroup/ipy-compare/.venv/lib/python3.10/site-packages/pandas/_libs/pandas_parser.cpython-310-darwin.so, 0x0002): tried: '/Users/patrick/Projects/thevgergroup/ipy-compare/.venv/lib/python3.10/site-packages/pandas/_libs/pandas_parser.cpython-310-darwin.so' (mach-o file, but is an incompatible architecture (have 'x86_64', need 'arm64e' or 'arm64')), '/System/Volumes/Preboot/Cryptexes/OS/Users/patrick/Projects/thevgergroup/ipy-compare/.venv/lib/python3.10/site-packages/pandas/_libs/pandas_parser.cpython-310-darwin.so' (no such file), '/Users/patrick/Projects/thevgergroup/ipy-compare/.venv/lib/python3.10/site-packages/pandas/_libs/pandas_parser.cpython-310-darwin.so' (mach-o file, but is an incompatible architecture (have 'x86_64', need 'arm64e' or 'arm64'))"
     ]
    }
   ],
   "source": [
    "from ipy_compare import Compare\n",
    "import pandas as pd"
   ]
  },
  {
   "cell_type": "code",
   "execution_count": 8,
   "id": "47ebc031-e52f-44fc-ad60-484eae75af1c",
   "metadata": {},
   "outputs": [
    {
     "data": {
      "application/vnd.jupyter.widget-view+json": {
       "model_id": "4b66194907a346e88ec7a56e58359e2b",
       "version_major": 2,
       "version_minor": 0
      },
      "text/plain": [
       "Output()"
      ]
     },
     "metadata": {},
     "output_type": "display_data"
    }
   ],
   "source": [
    "# Sample DataFrame\n",
    "data = {'Column1': ['A', 'B', 'C'], 'Column2': ['X', 'Y', 'Z'], 'Column3': [\"Apple\", \"Fish swimming\", \"Vrooom car\"]}\n",
    "df = pd.DataFrame(data)\n",
    "\n",
    "# Measures setup\n",
    "measures = {\n",
    "    \"overall\": [\"Good\", \"Bad\"],\n",
    "}\n",
    "\n",
    "# Initialize Compare\n",
    "compare = Compare(df, columns=[\"Column1\", \"Column3\"], measures=measures)"
   ]
  },
  {
   "cell_type": "markdown",
   "id": "b7cf523f-76f2-493d-a0ce-64f061e60d28",
   "metadata": {},
   "source": [
    "### Extract the measurements "
   ]
  },
  {
   "cell_type": "code",
   "execution_count": 4,
   "id": "26590c62-7a97-4535-8c44-50335ee146f8",
   "metadata": {},
   "outputs": [
    {
     "data": {
      "text/html": [
       "<div>\n",
       "<style scoped>\n",
       "    .dataframe tbody tr th:only-of-type {\n",
       "        vertical-align: middle;\n",
       "    }\n",
       "\n",
       "    .dataframe tbody tr th {\n",
       "        vertical-align: top;\n",
       "    }\n",
       "\n",
       "    .dataframe thead th {\n",
       "        text-align: right;\n",
       "    }\n",
       "</style>\n",
       "<table border=\"1\" class=\"dataframe\">\n",
       "  <thead>\n",
       "    <tr style=\"text-align: right;\">\n",
       "      <th></th>\n",
       "    </tr>\n",
       "  </thead>\n",
       "  <tbody>\n",
       "  </tbody>\n",
       "</table>\n",
       "</div>"
      ],
      "text/plain": [
       "Empty DataFrame\n",
       "Columns: []\n",
       "Index: []"
      ]
     },
     "execution_count": 4,
     "metadata": {},
     "output_type": "execute_result"
    }
   ],
   "source": [
    "compare.get_measurements()"
   ]
  },
  {
   "cell_type": "markdown",
   "id": "9c871f6f-967a-4b0c-a459-7d30eaf1d6ff",
   "metadata": {},
   "source": [
    "### Which is Better?\n",
    "\n",
    "Changing the measures from overall to each produces a set of buttons for all items"
   ]
  },
  {
   "cell_type": "code",
   "execution_count": 9,
   "id": "b4feaf14-7605-4fa8-a583-3fad0c6d8e39",
   "metadata": {},
   "outputs": [
    {
     "data": {
      "application/vnd.jupyter.widget-view+json": {
       "model_id": "5fd087c7bcb24cca9a8ec0cbea4e7437",
       "version_major": 2,
       "version_minor": 0
      },
      "text/plain": [
       "Output()"
      ]
     },
     "metadata": {},
     "output_type": "display_data"
    }
   ],
   "source": [
    "measures2 = {\n",
    "    \"each\": [\"Good\", \"Bad\", \"Neutral\"],\n",
    "}\n",
    "compare2 = Compare(df, columns=[\"Column1\", \"Column3\"], measures=measures2)"
   ]
  },
  {
   "cell_type": "code",
   "execution_count": 7,
   "id": "26a0abfe-db63-4496-9eee-075e1323ef84",
   "metadata": {},
   "outputs": [
    {
     "data": {
      "text/html": [
       "<div>\n",
       "<style scoped>\n",
       "    .dataframe tbody tr th:only-of-type {\n",
       "        vertical-align: middle;\n",
       "    }\n",
       "\n",
       "    .dataframe tbody tr th {\n",
       "        vertical-align: top;\n",
       "    }\n",
       "\n",
       "    .dataframe thead th {\n",
       "        text-align: right;\n",
       "    }\n",
       "</style>\n",
       "<table border=\"1\" class=\"dataframe\">\n",
       "  <thead>\n",
       "    <tr style=\"text-align: right;\">\n",
       "      <th></th>\n",
       "      <th>row_index</th>\n",
       "      <th>column</th>\n",
       "      <th>value</th>\n",
       "      <th>measure</th>\n",
       "      <th>type</th>\n",
       "    </tr>\n",
       "  </thead>\n",
       "  <tbody>\n",
       "    <tr>\n",
       "      <th>0</th>\n",
       "      <td>0</td>\n",
       "      <td>Column1</td>\n",
       "      <td>A</td>\n",
       "      <td>Good</td>\n",
       "      <td>column</td>\n",
       "    </tr>\n",
       "    <tr>\n",
       "      <th>1</th>\n",
       "      <td>0</td>\n",
       "      <td>Column3</td>\n",
       "      <td>Apple</td>\n",
       "      <td>Bad</td>\n",
       "      <td>column</td>\n",
       "    </tr>\n",
       "    <tr>\n",
       "      <th>2</th>\n",
       "      <td>1</td>\n",
       "      <td>Column1</td>\n",
       "      <td>B</td>\n",
       "      <td>Good</td>\n",
       "      <td>column</td>\n",
       "    </tr>\n",
       "    <tr>\n",
       "      <th>3</th>\n",
       "      <td>1</td>\n",
       "      <td>Column3</td>\n",
       "      <td>Fish swimming</td>\n",
       "      <td>Neutral</td>\n",
       "      <td>column</td>\n",
       "    </tr>\n",
       "    <tr>\n",
       "      <th>4</th>\n",
       "      <td>2</td>\n",
       "      <td>Column1</td>\n",
       "      <td>C</td>\n",
       "      <td>Good</td>\n",
       "      <td>column</td>\n",
       "    </tr>\n",
       "    <tr>\n",
       "      <th>5</th>\n",
       "      <td>2</td>\n",
       "      <td>Column3</td>\n",
       "      <td>Vrooom car</td>\n",
       "      <td>Bad</td>\n",
       "      <td>column</td>\n",
       "    </tr>\n",
       "  </tbody>\n",
       "</table>\n",
       "</div>"
      ],
      "text/plain": [
       "   row_index   column          value  measure    type\n",
       "0          0  Column1              A     Good  column\n",
       "1          0  Column3          Apple      Bad  column\n",
       "2          1  Column1              B     Good  column\n",
       "3          1  Column3  Fish swimming  Neutral  column\n",
       "4          2  Column1              C     Good  column\n",
       "5          2  Column3     Vrooom car      Bad  column"
      ]
     },
     "execution_count": 7,
     "metadata": {},
     "output_type": "execute_result"
    }
   ],
   "source": [
    "compare2.get_measurements()"
   ]
  }
 ],
 "metadata": {
  "kernelspec": {
   "display_name": "Python 3 (ipykernel)",
   "language": "python",
   "name": "python3"
  },
  "language_info": {
   "codemirror_mode": {
    "name": "ipython",
    "version": 3
   },
   "file_extension": ".py",
   "mimetype": "text/x-python",
   "name": "python",
   "nbconvert_exporter": "python",
   "pygments_lexer": "ipython3",
   "version": "3.10.15"
  }
 },
 "nbformat": 4,
 "nbformat_minor": 5
}
